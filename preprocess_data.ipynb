{
 "cells": [
  {
   "cell_type": "code",
   "execution_count": 4,
   "metadata": {},
   "outputs": [],
   "source": [
    "# train / val split\n",
    "import pandas as pd\n",
    "labels_path = 'train_labels_original.csv'\n",
    "val_labels_path = 'val_labels.csv'\n",
    "train_labels_path = 'train_labels.csv'\n",
    "df = pd.read_csv(labels_path)"
   ]
  },
  {
   "cell_type": "code",
   "execution_count": 7,
   "metadata": {},
   "outputs": [
    {
     "name": "stdout",
     "output_type": "stream",
     "text": [
      "loading previous...\n"
     ]
    }
   ],
   "source": [
    "import os\n",
    "split_is_done = os.path.isfile(val_labels_path)\n",
    "if not split_is_done:\n",
    "    print(\"making new splits...\")\n",
    "    df = df.sample(frac=1)\n",
    "    print(df.shape)\n",
    "    df_val = df.iloc[:2000, :]\n",
    "    df_train = df.iloc[2000:, :]\n",
    "    df_val.to_csv(val_labels_path, index=False)\n",
    "    df_train.to_csv(train_labels_path, index=False)\n",
    "else:\n",
    "    print(\"loading previous...\")\n",
    "    df_val = pd.read_csv(val_labels_path)\n",
    "    df_train = pd.read_csv(train_labels_path)"
   ]
  },
  {
   "cell_type": "code",
   "execution_count": 13,
   "metadata": {},
   "outputs": [
    {
     "data": {
      "text/plain": [
       "59.496875355073286"
      ]
     },
     "execution_count": 13,
     "metadata": {},
     "output_type": "execute_result"
    }
   ],
   "source": [
    "100 * df[df['label'] == 0].shape[0] / df.shape[0]"
   ]
  },
  {
   "cell_type": "code",
   "execution_count": 20,
   "metadata": {},
   "outputs": [
    {
     "name": "stdout",
     "output_type": "stream",
     "text": [
      "Original percentage negatives : 59.50%\n",
      "Train set percentage negatives: 59.47%\n",
      "Val set percentage negatives  : 61.90%\n"
     ]
    }
   ],
   "source": [
    "# labels distribution\n",
    "print(f\"Original percentage negatives : {100 * df[df['label'] == 0].shape[0] / df.shape[0]:.2f}%\")\n",
    "print(f\"Train set percentage negatives: {100 * df_train[df_train['label'] == 0].shape[0] / df_train.shape[0]:.2f}%\")\n",
    "print(f\"Val set percentage negatives  : {100 * df_val[df_val['label'] == 0].shape[0] / df_val.shape[0]:.2f}%\")"
   ]
  },
  {
   "cell_type": "code",
   "execution_count": null,
   "metadata": {},
   "outputs": [],
   "source": []
  }
 ],
 "metadata": {
  "kernelspec": {
   "display_name": "Python [conda env:py3.7] *",
   "language": "python",
   "name": "conda-env-py3.7-py"
  },
  "language_info": {
   "codemirror_mode": {
    "name": "ipython",
    "version": 3
   },
   "file_extension": ".py",
   "mimetype": "text/x-python",
   "name": "python",
   "nbconvert_exporter": "python",
   "pygments_lexer": "ipython3",
   "version": "3.7.1"
  }
 },
 "nbformat": 4,
 "nbformat_minor": 2
}
